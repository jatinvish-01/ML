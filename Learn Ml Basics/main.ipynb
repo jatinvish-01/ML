{
 "cells": [
  {
   "cell_type": "code",
   "execution_count": 13,
   "id": "4fb9130e",
   "metadata": {},
   "outputs": [
    {
     "name": "stdout",
     "output_type": "stream",
     "text": [
      "Original DataFrame\n",
      "      Name   Age   Salary\n",
      "0    Pawan  35.0  50000.0\n",
      "1    Kapil   NaN  60000.0\n",
      "2    Lalit  67.0  70000.0\n",
      "3  Shubham  23.0      NaN\n",
      "4    Jatin   NaN      NaN\n"
     ]
    }
   ],
   "source": [
    "import pandas as pd \n",
    "\n",
    "data = {\n",
    "      'Name': ['Pawan', 'Kapil', 'Lalit', 'Shubham', 'Jatin'],\n",
    "      'Age': [35, None, 67, 23, None],\n",
    "      'Salary': [50000, 60000, 70000, None, None]\n",
    "}\n",
    "\n",
    "df  = pd.DataFrame(data)\n",
    "print(\"Original DataFrame\")\n",
    "print(df)"
   ]
  },
  {
   "cell_type": "code",
   "execution_count": 14,
   "id": "bd46cb3e",
   "metadata": {},
   "outputs": [
    {
     "data": {
      "text/plain": [
       "Name      0\n",
       "Age       2\n",
       "Salary    2\n",
       "dtype: int64"
      ]
     },
     "execution_count": 14,
     "metadata": {},
     "output_type": "execute_result"
    }
   ],
   "source": [
    "# Handling missing data\n",
    "df.isnull().sum()"
   ]
  },
  {
   "cell_type": "code",
   "execution_count": 15,
   "id": "258cf96a",
   "metadata": {},
   "outputs": [
    {
     "data": {
      "text/html": [
       "<div>\n",
       "<style scoped>\n",
       "    .dataframe tbody tr th:only-of-type {\n",
       "        vertical-align: middle;\n",
       "    }\n",
       "\n",
       "    .dataframe tbody tr th {\n",
       "        vertical-align: top;\n",
       "    }\n",
       "\n",
       "    .dataframe thead th {\n",
       "        text-align: right;\n",
       "    }\n",
       "</style>\n",
       "<table border=\"1\" class=\"dataframe\">\n",
       "  <thead>\n",
       "    <tr style=\"text-align: right;\">\n",
       "      <th></th>\n",
       "      <th>Name</th>\n",
       "      <th>Age</th>\n",
       "      <th>Salary</th>\n",
       "    </tr>\n",
       "  </thead>\n",
       "  <tbody>\n",
       "    <tr>\n",
       "      <th>0</th>\n",
       "      <td>Pawan</td>\n",
       "      <td>35.0</td>\n",
       "      <td>50000.0</td>\n",
       "    </tr>\n",
       "    <tr>\n",
       "      <th>2</th>\n",
       "      <td>Lalit</td>\n",
       "      <td>67.0</td>\n",
       "      <td>70000.0</td>\n",
       "    </tr>\n",
       "  </tbody>\n",
       "</table>\n",
       "</div>"
      ],
      "text/plain": [
       "    Name   Age   Salary\n",
       "0  Pawan  35.0  50000.0\n",
       "2  Lalit  67.0  70000.0"
      ]
     },
     "execution_count": 15,
     "metadata": {},
     "output_type": "execute_result"
    }
   ],
   "source": [
    "df.dropna()"
   ]
  },
  {
   "cell_type": "code",
   "execution_count": 16,
   "id": "d58b3abd",
   "metadata": {},
   "outputs": [
    {
     "name": "stdout",
     "output_type": "stream",
     "text": [
      "      Name        Age   Salary\n",
      "0    Pawan  35.000000  50000.0\n",
      "1    Kapil  41.666667  60000.0\n",
      "2    Lalit  67.000000  70000.0\n",
      "3  Shubham  23.000000  60000.0\n",
      "4    Jatin  41.666667  60000.0\n",
      "Name      0.0\n",
      "Age       0.0\n",
      "Salary    0.0\n",
      "dtype: float64\n"
     ]
    },
    {
     "name": "stderr",
     "output_type": "stream",
     "text": [
      "C:\\Users\\hritik\\AppData\\Local\\Temp\\ipykernel_16208\\2877639811.py:1: FutureWarning: A value is trying to be set on a copy of a DataFrame or Series through chained assignment using an inplace method.\n",
      "The behavior will change in pandas 3.0. This inplace method will never work because the intermediate object on which we are setting values always behaves as a copy.\n",
      "\n",
      "For example, when doing 'df[col].method(value, inplace=True)', try using 'df.method({col: value}, inplace=True)' or df[col] = df[col].method(value) instead, to perform the operation inplace on the original object.\n",
      "\n",
      "\n",
      "  df['Age'].fillna(df['Age'].mean(),inplace=True)\n",
      "C:\\Users\\hritik\\AppData\\Local\\Temp\\ipykernel_16208\\2877639811.py:2: FutureWarning: A value is trying to be set on a copy of a DataFrame or Series through chained assignment using an inplace method.\n",
      "The behavior will change in pandas 3.0. This inplace method will never work because the intermediate object on which we are setting values always behaves as a copy.\n",
      "\n",
      "For example, when doing 'df[col].method(value, inplace=True)', try using 'df.method({col: value}, inplace=True)' or df[col] = df[col].method(value) instead, to perform the operation inplace on the original object.\n",
      "\n",
      "\n",
      "  df['Salary'].fillna(df['Salary'].mean(), inplace=True)\n"
     ]
    }
   ],
   "source": [
    "df['Age'].fillna(df['Age'].mean(),inplace=True)\n",
    "df['Salary'].fillna(df['Salary'].mean(), inplace=True)\n",
    "print(df)\n",
    "\n",
    "# Find the percentage of the missing data\n",
    "print(df.isnull().mean() * 100)"
   ]
  },
  {
   "cell_type": "code",
   "execution_count": 17,
   "id": "7f8a26b5",
   "metadata": {},
   "outputs": [
    {
     "name": "stdout",
     "output_type": "stream",
     "text": [
      "\n",
      " Label Encoded Data\n",
      "      Name  Gender  Gender_Encoded Passed  Passed_Encoded\n",
      "0     Aman    Male               1    Yes               1\n",
      "1    Priya  Female               0    Yes               1\n",
      "2    Rahul    Male               1     No               0\n",
      "3   Anjali  Female               0    Yes               1\n",
      "4     Ravi    Male               1    Yes               1\n",
      "5    Meera  Female               0     No               0\n",
      "6    Arjun    Male               1    Yes               1\n",
      "7     Neha  Female               0    Yes               1\n",
      "8    Imran    Male               1     No               0\n",
      "9    Sneha  Female               0    Yes               1\n",
      "10     Raj    Male               1    Yes               1\n",
      "11   Divya  Female               0     No               0\n",
      "12   Kabir    Male               1    Yes               1\n",
      "13  Simran  Female               0    Yes               1\n",
      "14   Karan    Male               1     No               0\n",
      "15   Pooja  Female               0    Yes               1\n",
      "16  Rakesh    Male               1    Yes               1\n",
      "17    Isha  Female               0     No               0\n",
      "18   Rohit    Male               1    Yes               1\n",
      "19   Deepa  Female               0    Yes               1\n"
     ]
    }
   ],
   "source": [
    "from sklearn.preprocessing import LabelEncoder\n",
    "import pandas as pd\n",
    "\n",
    "df = pd.read_csv(\"sample_data.csv\")\n",
    "\n",
    "df_label = df.copy()\n",
    "\n",
    "le = LabelEncoder()\n",
    "\n",
    "#Encode categorical values\n",
    "df_label['Gender_Encoded'] = le.fit_transform(df_label['Gender'])\n",
    "df_label['Passed_Encoded'] = le.fit_transform(df_label['Passed'])\n",
    "\n",
    "print(\"\\n Label Encoded Data\")\n",
    "print(df_label[['Name', 'Gender', 'Gender_Encoded', 'Passed', 'Passed_Encoded']])"
   ]
  },
  {
   "cell_type": "code",
   "execution_count": 18,
   "id": "ef7874cf",
   "metadata": {},
   "outputs": [
    {
     "name": "stdout",
     "output_type": "stream",
     "text": [
      "\n",
      " One-hot Encoded Data\n",
      "      Name  Gender Passed  Gender_Encoded  Passed_Encoded  City_Bangalore  \\\n",
      "0     Aman    Male    Yes               1               1               0   \n",
      "1    Priya  Female    Yes               0               1               0   \n",
      "2    Rahul    Male     No               1               0               1   \n",
      "3   Anjali  Female    Yes               0               1               0   \n",
      "4     Ravi    Male    Yes               1               1               0   \n",
      "5    Meera  Female     No               0               0               0   \n",
      "6    Arjun    Male    Yes               1               1               1   \n",
      "7     Neha  Female    Yes               0               1               0   \n",
      "8    Imran    Male     No               1               0               0   \n",
      "9    Sneha  Female    Yes               0               1               0   \n",
      "10     Raj    Male    Yes               1               1               0   \n",
      "11   Divya  Female     No               0               0               0   \n",
      "12   Kabir    Male    Yes               1               1               0   \n",
      "13  Simran  Female    Yes               0               1               1   \n",
      "14   Karan    Male     No               1               0               0   \n",
      "15   Pooja  Female    Yes               0               1               0   \n",
      "16  Rakesh    Male    Yes               1               1               0   \n",
      "17    Isha  Female     No               0               0               0   \n",
      "18   Rohit    Male    Yes               1               1               0   \n",
      "19   Deepa  Female    Yes               0               1               1   \n",
      "\n",
      "    City_Chennai  City_Delhi  City_Mumbai  \n",
      "0              0           1            0  \n",
      "1              0           0            1  \n",
      "2              0           0            0  \n",
      "3              0           0            1  \n",
      "4              0           1            0  \n",
      "5              1           0            0  \n",
      "6              0           0            0  \n",
      "7              0           1            0  \n",
      "8              1           0            0  \n",
      "9              0           0            1  \n",
      "10             1           0            0  \n",
      "11             0           1            0  \n",
      "12             0           0            1  \n",
      "13             0           0            0  \n",
      "14             0           1            0  \n",
      "15             0           0            1  \n",
      "16             1           0            0  \n",
      "17             0           1            0  \n",
      "18             0           1            0  \n",
      "19             0           0            0  \n"
     ]
    }
   ],
   "source": [
    "#Encode categorical values\n",
    "df_encoded = pd.get_dummies(df_label, columns=['City'], dtype=int)\n",
    "print(\"\\n One-hot Encoded Data\")\n",
    "print(df_encoded)"
   ]
  },
  {
   "cell_type": "code",
   "execution_count": 19,
   "id": "7f474f60",
   "metadata": {},
   "outputs": [
    {
     "name": "stdout",
     "output_type": "stream",
     "text": [
      "Standard Scaled:\n",
      " [[-1.22474487 -1.22474487 -1.22474487]\n",
      " [ 0.          0.          0.        ]\n",
      " [ 1.22474487  1.22474487  1.22474487]]\n",
      "\n",
      "MinMax Scaled:\n",
      " [[0.  0.  0. ]\n",
      " [0.5 0.5 0.5]\n",
      " [1.  1.  1. ]]\n"
     ]
    }
   ],
   "source": [
    "from sklearn.preprocessing import StandardScaler, MinMaxScaler\n",
    "import numpy as np\n",
    "\n",
    "# Example dataset\n",
    "X = np.array([[1, 2, 3],\n",
    "              [4, 5, 6],\n",
    "              [7, 8, 9]])\n",
    "\n",
    "# Standard Scaler\n",
    "scaler = StandardScaler()\n",
    "X_scaled = scaler.fit_transform(X)\n",
    "print(\"Standard Scaled:\\n\", X_scaled)\n",
    "\n",
    "# MinMax Scaler\n",
    "scaler = MinMaxScaler()\n",
    "X_scaled = scaler.fit_transform(X)\n",
    "print(\"\\nMinMax Scaled:\\n\", X_scaled)"
   ]
  },
  {
   "cell_type": "code",
   "execution_count": 20,
   "id": "885f2a46",
   "metadata": {},
   "outputs": [
    {
     "name": "stdout",
     "output_type": "stream",
     "text": [
      "Standard Scaler Output\n",
      "   StudyHours  TestScore\n",
      "0    -1.46385   -1.46385\n",
      "1    -0.87831   -0.87831\n",
      "2    -0.29277   -0.29277\n",
      "3     0.29277    0.29277\n",
      "4     0.87831    0.87831\n",
      "5     1.46385    1.46385\n",
      "\n",
      " Min Max Scaler Ouput\n",
      "   StudyHours  TestScore\n",
      "0         0.0        0.0\n",
      "1         0.2        0.2\n",
      "2         0.4        0.4\n",
      "3         0.6        0.6\n",
      "4         0.8        0.8\n",
      "5         1.0        1.0\n",
      "Training Data\n",
      "   StudyHours\n",
      "5           6\n",
      "2           3\n",
      "4           5\n",
      "3           4\n",
      "Testing Data\n",
      "   StudyHours\n",
      "0           1\n",
      "1           2\n",
      "Training Data\n",
      "   TestSorce\n",
      "5         90\n",
      "2         60\n",
      "4         80\n",
      "3         70\n",
      "Testing Data\n",
      "   TestSorce\n",
      "0         40\n",
      "1         50\n"
     ]
    }
   ],
   "source": [
    "from sklearn.preprocessing import StandardScaler, MinMaxScaler\n",
    "from sklearn.model_selection import train_test_split\n",
    "import pandas as pd\n",
    "\n",
    "data = {\n",
    "      'StudyHours': [1,2,3,4,5,6],\n",
    "      'TestSorce': [40,50,60,70,80,90]\n",
    "}\n",
    "\n",
    "df = pd.DataFrame(data)\n",
    "\n",
    "# Standard scaling \n",
    "Standard_scaler = StandardScaler()\n",
    "Standard_scaled = Standard_scaler.fit_transform(df)\n",
    "\n",
    "print(\"Standard Scaler Output\")\n",
    "\n",
    "print(pd.DataFrame(Standard_scaled, columns=['StudyHours', 'TestScore']))\n",
    "\n",
    "# in-Max Scaling\n",
    "minmax_scaler = MinMaxScaler()\n",
    "minmax_scaled = minmax_scaler.fit_transform(df)\n",
    "print(\"\\n Min Max Scaler Ouput\")\n",
    "print(pd.DataFrame(minmax_scaled, columns=['StudyHours', 'TestScore']))\n",
    "\n",
    "# Train-Test Split\n",
    "X = df[['StudyHours']]\n",
    "y = df[['TestSorce']]\n",
    "\n",
    "X_train , X_test, y_train, y_test = train_test_split(X,y, test_size=0.2, random_state=42)\n",
    "\n",
    "print(\"Training Data\")\n",
    "print(X_train)\n",
    "\n",
    "print(\"Testing Data\")\n",
    "print(X_test)\n",
    "\n",
    "print(\"Training Data\")\n",
    "print(y_train)\n",
    "\n",
    "print(\"Testing Data\")\n",
    "print(y_test)"
   ]
  },
  {
   "cell_type": "code",
   "execution_count": 21,
   "id": "38d5ad14",
   "metadata": {},
   "outputs": [
    {
     "name": "stdout",
     "output_type": "stream",
     "text": [
      "Enter the hours you will study:  5\n"
     ]
    },
    {
     "name": "stdout",
     "output_type": "stream",
     "text": [
      "Based on your marks 5.0 you may scored around [87.6] marks.\n"
     ]
    }
   ],
   "source": [
    "# Linear Regression\n",
    "\n",
    "from sklearn.linear_model import LinearRegression\n",
    "\n",
    "X = [[1], [2], [3], [4], [5]]\n",
    "y = [30, 45, 58, 70, 90]\n",
    "\n",
    "model = LinearRegression()\n",
    "\n",
    "model.fit(X, y) # Train the model using data \n",
    "\n",
    "hours = float(input(\"Enter the hours you will study: \"))\n",
    "\n",
    "predicted_marks = model.predict([[hours]]) # Predict the bases of input\n",
    "\n",
    "print(f\"Based on your marks {hours} you may scored around {predicted_marks} marks.\")"
   ]
  },
  {
   "cell_type": "code",
   "execution_count": 22,
   "id": "4a3d2de6",
   "metadata": {},
   "outputs": [
    {
     "name": "stdout",
     "output_type": "stream",
     "text": [
      "Enter the hours you will study:  4\n"
     ]
    },
    {
     "name": "stdout",
     "output_type": "stream",
     "text": [
      "Based on hours 4.0, you are likely to PASS\n"
     ]
    }
   ],
   "source": [
    "# Classification -> Logistic Regression\n",
    "\n",
    "from sklearn.linear_model import LogisticRegression\n",
    "X = [[1], [2], [3], [4], [5]] # hour stody input\n",
    "y = [0, 0, 1, 1, 1] # result 0F, 1P\n",
    "\n",
    "model = LogisticRegression()\n",
    "\n",
    "model.fit(X,y)\n",
    "\n",
    "hours = float(input(\"Enter the hours you will study: \"))\n",
    "\n",
    "predicted_result = model.predict([[hours]])[0]\n",
    "\n",
    "if predicted_result == 1:\n",
    "      print(f\"Based on hours {hours}, you are likely to PASS\")\n",
    "else:\n",
    "      print(f\"Based on hours {hours}, you are likely to FAIL!!\")"
   ]
  },
  {
   "cell_type": "code",
   "execution_count": 23,
   "id": "9eb226fa",
   "metadata": {},
   "outputs": [
    {
     "name": "stdout",
     "output_type": "stream",
     "text": [
      "Enter the weight in gram:  3\n",
      "Enter the size in cm:  3\n"
     ]
    },
    {
     "name": "stdout",
     "output_type": "stream",
     "text": [
      "This is likely an Apple\n"
     ]
    }
   ],
   "source": [
    "# KNN(K - Nearest Neighbours)\n",
    "\n",
    "from sklearn.neighbors import KNeighborsClassifier\n",
    "\n",
    "X = [\n",
    "      [180, 7],\n",
    "      [200, 7.5],\n",
    "      [250, 8],\n",
    "      [300, 8.5],\n",
    "      [330, 9],\n",
    "      [360, 9.5]\n",
    "]\n",
    "\n",
    "y = [0,0,0,1,1,1]\n",
    "\n",
    "model = KNeighborsClassifier(n_neighbors = 3)\n",
    "\n",
    "model.fit(X, y)\n",
    "\n",
    "weight = float(input(\"Enter the weight in gram: \"))\n",
    "size = float(input(\"Enter the size in cm: \"))\n",
    "\n",
    "prediction = model.predict([[weight, size]])[0] # 0 for the print the content inside the list \n",
    "\n",
    "if prediction == 0:\n",
    "      print(\"This is likely an Apple\")\n",
    "else:\n",
    "      print(\"This is likely an Orange\")"
   ]
  },
  {
   "cell_type": "code",
   "execution_count": 24,
   "id": "b9be80e4",
   "metadata": {},
   "outputs": [
    {
     "name": "stdout",
     "output_type": "stream",
     "text": [
      "Enter the size of fruit in cm:  4\n",
      "Enter the shade of fruit (1-10):  7\n"
     ]
    },
    {
     "name": "stdout",
     "output_type": "stream",
     "text": [
      "This is likely an Apple\n"
     ]
    }
   ],
   "source": [
    "# Decision Trees\n",
    "from sklearn.tree import DecisionTreeClassifier\n",
    "\n",
    "X = [\n",
    "      [7, 2],\n",
    "      [8, 3],\n",
    "      [9, 8],\n",
    "      [10, 9]\n",
    "]\n",
    "\n",
    "y = [0, 0, 1, 1]\n",
    "\n",
    "model = DecisionTreeClassifier()\n",
    "\n",
    "model.fit(X, y)\n",
    "\n",
    "size = float(input(\"Enter the size of fruit in cm: \"))\n",
    "shade = float(input(\"Enter the shade of fruit (1-10): \"))\n",
    "\n",
    "result = model.predict([[size, shade]])[0]\n",
    "\n",
    "if result == 0:\n",
    "      print(\"This is likely an Apple\")\n",
    "else:\n",
    "      print(\"This is likely an Orange\")"
   ]
  },
  {
   "cell_type": "code",
   "execution_count": 25,
   "id": "c4fe01ef",
   "metadata": {},
   "outputs": [
    {
     "name": "stdout",
     "output_type": "stream",
     "text": [
      "Accuracy:  0.7142857142857143\n",
      "Precision:  0.75\n",
      "Recall:  0.75\n",
      "F1-score:  0.75\n"
     ]
    }
   ],
   "source": [
    "# Mastering Model Evaluation \n",
    "\n",
    "from sklearn.metrics import accuracy_score, precision_score, recall_score, f1_score\n",
    "\n",
    "# True answer (what actually happend)\n",
    "y_true = [1, 0, 1, 1, 0, 1, 0]\n",
    "\n",
    "# Model's prediction (what it guessed)\n",
    "y_predit = [1, 0, 1, 0, 0, 1, 1]\n",
    "\n",
    "# Evaluation \n",
    "print(\"Accuracy: \", accuracy_score(y_true, y_predit))\n",
    "print(\"Precision: \", precision_score(y_true, y_predit))\n",
    "print(\"Recall: \", recall_score(y_true, y_predit))\n",
    "print(\"F1-score: \", f1_score(y_true, y_predit))"
   ]
  },
  {
   "cell_type": "code",
   "execution_count": 26,
   "id": "1a4d6a7c",
   "metadata": {},
   "outputs": [
    {
     "name": "stdout",
     "output_type": "stream",
     "text": [
      "Confusion Matrix\n",
      "[[4 1]\n",
      " [1 4]]\n"
     ]
    }
   ],
   "source": [
    "#Confusion Matrix\n",
    "\n",
    "from sklearn.metrics import confusion_matrix\n",
    "\n",
    "y_true = [1, 0, 1, 1, 0, 1, 0, 0, 1, 0]\n",
    "y_predit = [1, 0, 1, 0, 0, 1, 1, 0, 1, 0]\n",
    "\n",
    "cm = confusion_matrix(y_true,  y_predit)\n",
    "\n",
    "print(\"Confusion Matrix\") \n",
    "print(cm)                # 4 - TN | 1 - FP | 4 - TP | 1 - FN"
   ]
  },
  {
   "cell_type": "code",
   "execution_count": 27,
   "id": "0f91981b",
   "metadata": {},
   "outputs": [
    {
     "name": "stdout",
     "output_type": "stream",
     "text": [
      "Mean Absolute Error:  1.8\n"
     ]
    }
   ],
   "source": [
    "# Mean Absolute Error(MAE)\n",
    "\"\"\"\n",
    "1 - Take the Mistake difference \n",
    "2 - Remove the minus sign \n",
    "3 - add \n",
    "4 - divide\n",
    "\"\"\"\n",
    "from sklearn.metrics import mean_absolute_error as mae\n",
    " \n",
    "actual = [2,3,5,5,9]\n",
    "calculated = [3,3,8,7,6]\n",
    "\n",
    "error = mae(actual, calculated)\n",
    "\n",
    "print(\"Mean Absolute Error: \", error)"
   ]
  },
  {
   "cell_type": "code",
   "execution_count": null,
   "id": "073fb5f8",
   "metadata": {},
   "outputs": [],
   "source": []
  },
  {
   "cell_type": "code",
   "execution_count": 29,
   "id": "b75b060f-e0ba-4f76-bf01-8452eaf2fef5",
   "metadata": {},
   "outputs": [
    {
     "name": "stdout",
     "output_type": "stream",
     "text": [
      "MAE: On Average of by:  7.5\n",
      "MSE: Squared mistake values:  62.5\n",
      "RMSE: Final Realistic error:  7.905694150420948\n"
     ]
    }
   ],
   "source": [
    "# Mean Squared Error (MSE)\n",
    "\"\"\"\n",
    "1 - Mistakes square them\n",
    "2 - add\n",
    "3 - divide by total value \"\"\"\n",
    "\n",
    "from sklearn.metrics import mean_absolute_error, mean_squared_error\n",
    "import numpy as np\n",
    "\n",
    "# real score\n",
    "real_score = [90, 60, 80, 100]\n",
    "\n",
    "# model guess\n",
    "predicted_score = [85, 70, 70, 95]\n",
    "\n",
    "mae = mean_absolute_error(real_score, predicted_score)\n",
    "\n",
    "mse = mean_squared_error(real_score, predicted_score)\n",
    "\n",
    "rmse = np.sqrt(mse)\n",
    "\n",
    "print(\"MAE: On Average of by: \", mae)\n",
    "print(\"MSE: Squared mistake values: \", mse)\n",
    "print(\"RMSE: Final Realistic error: \", rmse)"
   ]
  },
  {
   "cell_type": "code",
   "execution_count": null,
   "id": "21e23cff-bbfd-4db9-a1d3-35b3232d08c7",
   "metadata": {},
   "outputs": [],
   "source": []
  }
 ],
 "metadata": {
  "kernelspec": {
   "display_name": "base",
   "language": "python",
   "name": "python3"
  },
  "language_info": {
   "codemirror_mode": {
    "name": "ipython",
    "version": 3
   },
   "file_extension": ".py",
   "mimetype": "text/x-python",
   "name": "python",
   "nbconvert_exporter": "python",
   "pygments_lexer": "ipython3",
   "version": "3.12.7"
  },
  "widgets": {
   "application/vnd.jupyter.widget-state+json": {
    "state": {},
    "version_major": 2,
    "version_minor": 0
   }
  }
 },
 "nbformat": 4,
 "nbformat_minor": 5
}
