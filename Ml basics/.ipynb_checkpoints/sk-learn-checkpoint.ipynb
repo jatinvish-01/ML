{
 "cells": [
  {
   "cell_type": "code",
   "execution_count": null,
   "id": "dfeb8256-91b3-47b6-80ed-b280d19147ad",
   "metadata": {},
   "outputs": [],
   "source": []
  }
 ],
 "metadata": {
  "kernelspec": {
   "display_name": "",
   "name": ""
  },
  "language_info": {
   "name": ""
  }
 },
 "nbformat": 4,
 "nbformat_minor": 5
}
