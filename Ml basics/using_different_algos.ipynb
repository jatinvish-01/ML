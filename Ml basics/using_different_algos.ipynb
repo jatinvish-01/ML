{
 "cells": [
  {
   "cell_type": "code",
   "execution_count": 1,
   "id": "e0ef0155-2b22-4e31-acf1-bd4d3ad754e0",
   "metadata": {},
   "outputs": [],
   "source": [
    "from sklearn.ensemble import RandomForestClassifier"
   ]
  },
  {
   "cell_type": "code",
   "execution_count": 2,
   "id": "11205a45-661f-4bfd-8f07-4f53369e1102",
   "metadata": {},
   "outputs": [],
   "source": [
    "# Step 1: Collect Data\n",
    "# Features: [weight (grams), color (0 = red, 1 = orange)]\n",
    "features = [\n",
    "    [150, 0],  #Apple \n",
    "    [170, 0],  #Apple\n",
    "    [130, 1],  #Orange\n",
    "    [120, 1],  #Orange\n",
    "]"
   ]
  },
  {
   "cell_type": "code",
   "execution_count": 3,
   "id": "fffd3409-1416-4e58-9cd1-f35489dd62a6",
   "metadata": {},
   "outputs": [],
   "source": [
    "labels = ['apple', 'apple', 'orange', 'orange']"
   ]
  },
  {
   "cell_type": "code",
   "execution_count": 4,
   "id": "d61799a7-8133-4cc8-8b85-310137c90e45",
   "metadata": {},
   "outputs": [],
   "source": [
    "# Step 2:  Train a model\n",
    "clf = RandomForestClassifier()"
   ]
  },
  {
   "cell_type": "code",
   "execution_count": 5,
   "id": "db826855-8496-4a2a-85f8-457eb0d28f2d",
   "metadata": {},
   "outputs": [],
   "source": [
    "clf = clf.fit(features, labels)"
   ]
  },
  {
   "cell_type": "code",
   "execution_count": 6,
   "id": "9797b82a-313d-4dd9-b6d0-4d81c7c0c671",
   "metadata": {},
   "outputs": [
    {
     "name": "stdout",
     "output_type": "stream",
     "text": [
      "The fruit is ['apple']\n",
      "The fruit is ['orange']\n"
     ]
    }
   ],
   "source": [
    "print(f\"The fruit is {clf.predict([[160, 0]])}\") # Heavy and red-ish? Probably an apple!\n",
    "print(f\"The fruit is {clf.predict([[115, 1]])}\") # light and orange? Probably an orange!"
   ]
  }
 ],
 "metadata": {
  "kernelspec": {
   "display_name": "base",
   "language": "python",
   "name": "python3"
  },
  "language_info": {
   "codemirror_mode": {
    "name": "ipython",
    "version": 3
   },
   "file_extension": ".py",
   "mimetype": "text/x-python",
   "name": "python",
   "nbconvert_exporter": "python",
   "pygments_lexer": "ipython3",
   "version": "3.12.7"
  },
  "widgets": {
   "application/vnd.jupyter.widget-state+json": {
    "state": {},
    "version_major": 2,
    "version_minor": 0
   }
  }
 },
 "nbformat": 4,
 "nbformat_minor": 5
}
